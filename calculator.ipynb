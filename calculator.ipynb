{
 "cells": [
  {
   "cell_type": "code",
   "execution_count": 1,
   "id": "667aa422",
   "metadata": {},
   "outputs": [
    {
     "name": "stdout",
     "output_type": "stream",
     "text": [
      "please select the operation:\n",
      "1.Addition\n",
      "2.Substraction\n",
      "3.Multiply\n",
      "4.Division\n",
      "5.Average\n",
      "6.Power\n",
      "please select the operation from 1,2,3,4,5,6: 2\n",
      "Substraction of two numbers is equal to : \n",
      "76 - 554 = -478\n"
     ]
    }
   ],
   "source": [
    "\n",
    "#create a simple claculator using python \n",
    "#step 1: define the functions of the file\n",
    "def add(num1,num2):\n",
    "    return num1 + num2\n",
    "\n",
    "def sub(num1,num2):\n",
    "    return num1-num2\n",
    "\n",
    "def multiply(num1,num2):\n",
    "    return num1*num2\n",
    "\n",
    "def divide(num1,num2):\n",
    "    return num1 / num2\n",
    "\n",
    "def average(num1,num2):\n",
    "    return (num1+num2)/2\n",
    "\n",
    "def raise_to_power(num1,num2):\n",
    "    return num1**num2\n",
    "\n",
    "print(\"please select the operation:\")\n",
    "print(\"1.Addition\")\n",
    "print(\"2.Substraction\")\n",
    "print(\"3.Multiply\")\n",
    "print(\"4.Division\")\n",
    "print(\"5.Average\")\n",
    "print(\"6.Power\")\n",
    "\n",
    "select = int(input(\"Please select the operation from 1,2,3,4,5: \"))\n",
    "print(\"please select the operation from 1,2,3,4,5,6: {}\".format(select))\n",
    "\n",
    "number1= int(input(\"Enter a number1:\"))\n",
    "number2= int(input(\"Enter a number2: \"))\n",
    "if select==1:\n",
    "    print(\"Addition of two numbers is equal to : \")\n",
    "    print(number1, \"+\", number2 ,\"=\", add(number1,number2))\n",
    "\n",
    "elif select==2:\n",
    "    print(\"Substraction of two numbers is equal to : \")\n",
    "    print(number1,\"-\",number2,\"=\", sub(number1,number2))\n",
    "\n",
    "elif select==3:\n",
    "    print(\"Multiplication of two numbers is equal to : \")\n",
    "    print(number1,\"*\",number2,multiply(number1,number2))\n",
    "\n",
    "elif select==4:\n",
    "    print(\"Division of two numbers is equal to : \")\n",
    "    print(number1,\"/\",number2,divide(number1,number2))\n",
    "\n",
    "elif select==5:\n",
    "    print(\"Average of two numbers is equal to : \")\n",
    "    print(\"(\",number1,\"+\",number2,\")\",\"/\",\"2\",\"=\",average(number1,number2))\n",
    "\n",
    "elif select==6:\n",
    "    print(\"Power of a number is equal to : \")\n",
    "    print(number1,\"^\",number2,\"=\",raise_to_power(number1,number2))\n",
    "\n",
    "else:\n",
    "    print(\"invalid operation , please try again!\")\n",
    "\n",
    "\n"
   ]
  },
  {
   "cell_type": "code",
   "execution_count": null,
   "id": "2a9e7835",
   "metadata": {},
   "outputs": [],
   "source": []
  },
  {
   "cell_type": "code",
   "execution_count": null,
   "id": "129cfc54",
   "metadata": {},
   "outputs": [],
   "source": []
  }
 ],
 "metadata": {
  "kernelspec": {
   "display_name": "Python 3",
   "language": "python",
   "name": "python3"
  },
  "language_info": {
   "codemirror_mode": {
    "name": "ipython",
    "version": 3
   },
   "file_extension": ".py",
   "mimetype": "text/x-python",
   "name": "python",
   "nbconvert_exporter": "python",
   "pygments_lexer": "ipython3",
   "version": "3.13.4"
  }
 },
 "nbformat": 4,
 "nbformat_minor": 5
}
